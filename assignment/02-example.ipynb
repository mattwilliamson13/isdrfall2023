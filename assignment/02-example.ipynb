{
  "cells": [
    {
      "cell_type": "raw",
      "metadata": {},
      "source": [
        "---\n",
        "title: \"Quarto Example\"\n",
        "author: \"Matt Williamson\"\n",
        "bibliography: references.bib\n",
        "---"
      ],
      "id": "5b25ac30"
    },
    {
      "cell_type": "markdown",
      "metadata": {},
      "source": [
        "# Introduction\n",
        "I want to reproduce the figure from [@Nelson] depicting commute networks in the United States based on US Census data.\n",
        "\n",
        "# Methods\n",
        "\n",
        "Some pseudocode:\n",
        "\n",
        "```{text}\n",
        "1. Retrieve ACS commute data\n",
        "2. Identify the source and destination networks\n",
        "3. Calculate the edge density for each source-destination pair\n",
        "4. Thin to a manageable number of nodes based on edge densities\n",
        "5. plot\n",
        "```\n",
        "\n",
        "\n",
        "# Results\n",
        "\n",
        "![Commute Networks from Dash Nelson and Rae 2016](https://journals.plos.org/plosone/article/file?id=10.1371/journal.pone.0166083.g006&type=large)"
      ],
      "id": "75bbcf09"
    }
  ],
  "metadata": {
    "kernelspec": {
      "display_name": "Python 3",
      "language": "python",
      "name": "python3"
    }
  },
  "nbformat": 4,
  "nbformat_minor": 5
}